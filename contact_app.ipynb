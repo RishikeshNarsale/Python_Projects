{
  "cells": [
    {
      "cell_type": "markdown",
      "metadata": {
        "id": "view-in-github",
        "colab_type": "text"
      },
      "source": [
        "<a href=\"https://colab.research.google.com/github/RishikeshNarsale/Python_Projects/blob/main/contact_app.ipynb\" target=\"_parent\"><img src=\"https://colab.research.google.com/assets/colab-badge.svg\" alt=\"Open In Colab\"/></a>"
      ]
    },
    {
      "cell_type": "markdown",
      "metadata": {
        "id": "6aSiuw23RQOc"
      },
      "source": [
        "# Contact app\n",
        "\n",
        "You have learnt a lot of new things; data structures, string, regex & files. Lets use all our newly acquired knowledge to build a **contact app**, just like the ones in our smartphone.\n",
        "\n",
        "We will not be building a fancy UI, instead we will focus on understanding the programming logic.\n",
        "\n",
        "Lets get started!\n",
        "\n",
        "Think of all the features that your contact app has . . . !\n",
        "- It can show you all the contact names\n",
        "- You can search for contacts (using name)\n",
        "- You can see all the information associated with the contact\n",
        "- You can delete and update contacts\n",
        "\n",
        "Can you think of anything more ? Our contact app should have at least these features. \n",
        "- The app should show us all the contact names\n",
        "- It should allow us to select a contact and view all the information associated with the contact\n",
        "- It should allow us to update contact info & delete contact\n",
        "- Finally, it should show us all the contact names\n",
        "\n",
        "For every contact, we will store the `name`, `number` & `email`. "
      ]
    },
    {
      "cell_type": "code",
      "execution_count": null,
      "metadata": {
        "id": "1RLaIS2LRQOi"
      },
      "outputs": [],
      "source": [
        "contacts = [{'name':'Abhi','number':9876543210,'email':'abhi@gmail.com'},{'name':'Akshay','number':9898989898 , 'email':'akshay@gmail.com'},{'name':'aditiya','number':9090909090,'email':'aditiya@gmail.com'}]"
      ]
    },
    {
      "cell_type": "markdown",
      "metadata": {
        "id": "aOCN5qZJRQOj"
      },
      "source": [
        "### List all contact names\n",
        "Write `show_contacts` function that takes the `contacts` list and prints all the contact names. These names will help us to select the contact later."
      ]
    },
    {
      "cell_type": "code",
      "execution_count": null,
      "metadata": {
        "id": "t-d4-3wnRQOj"
      },
      "outputs": [],
      "source": [
        "def show_contacts(contacts):\n",
        "    for i in contacts:\n",
        "      print(i)"
      ]
    },
    {
      "cell_type": "code",
      "execution_count": null,
      "metadata": {
        "colab": {
          "base_uri": "https://localhost:8080/"
        },
        "id": "8QE2oRp6RQOj",
        "outputId": "449d35d6-007e-4266-bd73-c521b703168a"
      },
      "outputs": [
        {
          "output_type": "stream",
          "name": "stdout",
          "text": [
            "{'name': 'Abhi', 'number': 9876543210, 'email': 'abhi@gmail.com'}\n",
            "{'name': 'Akshay', 'number': 9898989898, 'email': 'akshay@gmail.com'}\n",
            "{'name': 'aditiya', 'number': 9090909090, 'email': 'aditiya@gmail.com'}\n"
          ]
        }
      ],
      "source": [
        "show_contacts(contacts)"
      ]
    },
    {
      "cell_type": "markdown",
      "metadata": {
        "id": "x3AqNSPFRQOk"
      },
      "source": [
        "### Add a new Contact\n",
        "\n",
        "Write `add_contact` function that takes user input and *adds new contact* dictionary to the existing list of `contacts`."
      ]
    },
    {
      "cell_type": "code",
      "execution_count": null,
      "metadata": {
        "id": "Eg-b5IvwRQOk"
      },
      "outputs": [],
      "source": [
        "def add_contact(contacts):\n",
        "    new_contact ={} \n",
        "    l=['name','number','email']\n",
        "    for i in l:\n",
        "      new_contact[i]=(input(\"Enter Contact's  \"+ i ))\n",
        "    contacts.append(new_contact)\n",
        "    return contacts"
      ]
    },
    {
      "cell_type": "code",
      "execution_count": null,
      "metadata": {
        "colab": {
          "base_uri": "https://localhost:8080/"
        },
        "id": "27ZD42MBRQOl",
        "outputId": "c07df67e-9c95-4f4d-d024-e025a5bb0724"
      },
      "outputs": [
        {
          "name": "stdout",
          "output_type": "stream",
          "text": [
            "Enter Contact's  nameajay\n",
            "Enter Contact's  number9797979797\n",
            "Enter Contact's  emailajay@gmail.com\n"
          ]
        },
        {
          "output_type": "execute_result",
          "data": {
            "text/plain": [
              "[{'name': 'Abhi', 'number': 9876543210, 'email': 'abhi@gmail.com'},\n",
              " {'name': 'Akshay', 'number': 9898989898, 'email': 'akshay@gmail.com'},\n",
              " {'name': 'aditiya', 'number': 9090909090, 'email': 'aditiya@gmail.com'},\n",
              " {'name': 'Ajay', 'number': '9797979797', 'email': 'ajay@gmail.com'},\n",
              " {'name': 'ajay', 'number': '9797979797', 'email': 'ajay@gmail.com'}]"
            ]
          },
          "metadata": {},
          "execution_count": 18
        }
      ],
      "source": [
        "add_contact(contacts)"
      ]
    },
    {
      "cell_type": "markdown",
      "metadata": {
        "id": "7a7S4qDvRQOl"
      },
      "source": [
        "### Delete Contact\n",
        "\n",
        "Write `delete_contact` function to delete an existing contact by providing `name` of the contact which we want to delete."
      ]
    },
    {
      "cell_type": "code",
      "execution_count": null,
      "metadata": {
        "id": "88wvErASRQOm"
      },
      "outputs": [],
      "source": [
        "def delete_contact(contacts, name):   \n",
        "    for i in contacts:\n",
        "      if i.get('name') == name:\n",
        "        contacts.remove(i)\n",
        "        print('deleted')\n",
        "    return contacts"
      ]
    },
    {
      "cell_type": "code",
      "execution_count": null,
      "metadata": {
        "id": "JcYMpObmRQOm",
        "colab": {
          "base_uri": "https://localhost:8080/"
        },
        "outputId": "82963228-86c8-463a-f905-28bcf1ffebbd"
      },
      "outputs": [
        {
          "output_type": "stream",
          "name": "stdout",
          "text": [
            "deleted\n"
          ]
        },
        {
          "output_type": "execute_result",
          "data": {
            "text/plain": [
              "[{'name': 'Abhi', 'number': 9876543210, 'email': 'abhi@gmail.com'},\n",
              " {'name': 'Akshay', 'number': 9898989898, 'email': 'akshay@gmail.com'},\n",
              " {'name': 'aditiya', 'number': 9090909090, 'email': 'aditiya@gmail.com'},\n",
              " {'name': 'Ajay', 'number': '9797979797', 'email': 'ajay@gmail.com'}]"
            ]
          },
          "metadata": {},
          "execution_count": 20
        }
      ],
      "source": [
        "delete_contact(contacts,'ajay')"
      ]
    },
    {
      "cell_type": "markdown",
      "metadata": {
        "id": "3GIVWckTRQOm"
      },
      "source": [
        "### Update Contact details\n",
        "\n",
        "Let's write `update_contact` function which will *update contact details* such as `name`, `email` & `number`. \n",
        "The functions should take `contacts` and `name` as arguments. It should also print the newly added contact."
      ]
    },
    {
      "cell_type": "code",
      "execution_count": null,
      "metadata": {
        "id": "hUiOrBsARQOn"
      },
      "outputs": [],
      "source": [
        "def update_contact(contacts, name):    \n",
        "    for i in contacts:\n",
        "      if i.get('name') == name:\n",
        "        l=['name','number','email']\n",
        "        for j in l:\n",
        "          i.update({j:(input(\"Enter Contact's \" + i ))})\n",
        "    return contacts"
      ]
    },
    {
      "cell_type": "code",
      "execution_count": null,
      "metadata": {
        "id": "0u__AJSoRQOn",
        "colab": {
          "base_uri": "https://localhost:8080/"
        },
        "outputId": "dfb4b967-6dd2-41ba-e840-2b249d261b19"
      },
      "outputs": [
        {
          "name": "stdout",
          "output_type": "stream",
          "text": [
            "Enter Contact's sanjay\n",
            "Enter Contact's 9292929292\n",
            "Enter Contact's sanjay@gmail.com\n"
          ]
        },
        {
          "output_type": "execute_result",
          "data": {
            "text/plain": [
              "[{'name': 'Abhi', 'number': 9876543210, 'email': 'abhi@gmail.com'},\n",
              " {'name': 'Akshay', 'number': 9898989898, 'email': 'akshay@gmail.com'},\n",
              " {'name': 'aditiya', 'number': 9090909090, 'email': 'aditiya@gmail.com'},\n",
              " {'name': 'sanjay', 'number': '9292929292', 'email': 'sanjay@gmail.com'}]"
            ]
          },
          "metadata": {},
          "execution_count": 22
        }
      ],
      "source": [
        "update_contact(contacts,'Ajay')"
      ]
    },
    {
      "cell_type": "markdown",
      "metadata": {
        "id": "cdTkX969RQOn"
      },
      "source": [
        "### Open Contact \n",
        "\n",
        "\n",
        "`open_contact` function takes the `contacts` list and a `name` string as input. It prints the contact details if `name` matches some contact name in the `contacts` list, else prints `No match found!`."
      ]
    },
    {
      "cell_type": "code",
      "execution_count": null,
      "metadata": {
        "id": "YbhJYsCURQOn"
      },
      "outputs": [],
      "source": [
        "def open_contact(contacts, name):\n",
        "    x=len(contacts)\n",
        "    z=0\n",
        "    for i in contacts:\n",
        "      if i.get('name') == name:\n",
        "        print(i)\n",
        "      else:\n",
        "        z+=1\n",
        "    if x==z:\n",
        "      print(\"Not found\")"
      ]
    },
    {
      "cell_type": "code",
      "execution_count": null,
      "metadata": {
        "id": "xQ_BomyQRQOo",
        "colab": {
          "base_uri": "https://localhost:8080/"
        },
        "outputId": "cf911fc9-a43b-43aa-817e-f69ba862e3e9"
      },
      "outputs": [
        {
          "output_type": "stream",
          "name": "stdout",
          "text": [
            "{'name': 'sanjay', 'number': '9292929292', 'email': 'sanjay@gmail.com'}\n"
          ]
        }
      ],
      "source": [
        "open_contact(contacts, 'sanjay')"
      ]
    },
    {
      "cell_type": "markdown",
      "metadata": {
        "id": "OIx7ZjLLRQOo"
      },
      "source": [
        "We often see *update* & *delete* options after we open a particular contact. It would be great if we can also implement the same. \n",
        "\n",
        "After opening the contact, the program should wait for user input. The user can press `u` to update & `d` delete contact. Any other key press should be ignored\n"
      ]
    },
    {
      "cell_type": "code",
      "execution_count": null,
      "metadata": {
        "id": "9kRpHnJURQOo"
      },
      "outputs": [],
      "source": [
        "def open_contact(contacts, name):\n",
        "\n",
        "    x=len(contacts)\n",
        "    z = 0\n",
        "    for i in contacts:\n",
        "      if i['name'] == name:\n",
        "        print(i)\n",
        "        break\n",
        "      else: \n",
        "        z+=1\n",
        "    if x == z:\n",
        "      print('No Match Found')\n",
        "      \n",
        "    user_input = input('press u to update or d to delete - ')\n",
        "    if user_input == 'u':\n",
        "      update_contact(contacts,name)\n",
        "    elif user_input == 'd':\n",
        "      delete_contact(contacts,name)\n",
        "    else:\n",
        "      print('Ignored')\n",
        "    return contacts"
      ]
    },
    {
      "cell_type": "code",
      "execution_count": null,
      "metadata": {
        "id": "KRlDtFFGRQOo",
        "colab": {
          "base_uri": "https://localhost:8080/"
        },
        "outputId": "b97e30b6-ea4c-4b2e-897c-de045e589b24"
      },
      "outputs": [
        {
          "output_type": "stream",
          "name": "stdout",
          "text": [
            "{'name': 'Abhi', 'number': 9876543210, 'email': 'abhi@gmail.com'}\n",
            "press u to update or d to deletex\n",
            "Ignored\n"
          ]
        },
        {
          "output_type": "execute_result",
          "data": {
            "text/plain": [
              "[{'name': 'Abhi', 'number': 9876543210, 'email': 'abhi@gmail.com'},\n",
              " {'name': 'Akshay', 'number': 9898989898, 'email': 'akshay@gmail.com'},\n",
              " {'name': 'aditiya', 'number': 9090909090, 'email': 'aditiya@gmail.com'},\n",
              " {'name': 'sanjay', 'number': '9292929292', 'email': 'sanjay@gmail.com'}]"
            ]
          },
          "metadata": {},
          "execution_count": 27
        }
      ],
      "source": [
        "open_contact(contacts, 'Abhi')"
      ]
    },
    {
      "cell_type": "markdown",
      "metadata": {
        "id": "IurKfCegRQOo"
      },
      "source": [
        "### Complete application (using all the above functions in use)\n",
        "\n",
        "We will use an infinite loop to encapsulate our application logic and break only when `q` is pressed. "
      ]
    },
    {
      "cell_type": "code",
      "execution_count": null,
      "metadata": {
        "id": "9n-Cc4jeRQOp",
        "colab": {
          "base_uri": "https://localhost:8080/"
        },
        "outputId": "026b9aa4-f2a5-4cae-d106-6268cf6c69b0"
      },
      "outputs": [
        {
          "name": "stdout",
          "output_type": "stream",
          "text": [
            "Press 'a' - add contact, 'o' - open contact, 's' - search contact, 'q' - quit : q\n"
          ]
        }
      ],
      "source": [
        "\n",
        "while True:\n",
        "    \n",
        "    ## show all contacts\n",
        "    action = input(\"Press 'a' - add contact, 'o' - open contact, 's' - search contact, 'q' - quit : \")\n",
        "    if action == 'a':\n",
        "        ## add contact\n",
        "        add_contact(contacts)\n",
        "\n",
        "    elif action == 'o':\n",
        "        name = input(\"Enter name of the contact you want to open. \")        \n",
        "        ## open contact\n",
        "        open_contact(contacts,name)\n",
        "\n",
        "    elif action == 'q':\n",
        "        break\n",
        "    \n",
        "    else:\n",
        "        print('incorrect choice')\n"
      ]
    },
    {
      "cell_type": "markdown",
      "source": [
        "## Contact App using Object-Oriented Programming"
      ],
      "metadata": {
        "id": "Ac_IwyeF0PXu"
      }
    },
    {
      "cell_type": "code",
      "source": [
        "class Contact_App():\n",
        "\n",
        "  def __init__(self):\n",
        "    self.contacts=[{'name':'vivek', 'email':'vivek@gmail.com', 'number':9921668254},{'name':'ankur', 'email':'ankur@gmail.com', 'number':8806807004},{'name':'pranav','email': 'pranav@gmail.com','number' : 987654321}]  \n",
        "\n",
        "  def show_contacts(self):\n",
        "    for i in self.contacts:\n",
        "      print(i)\n",
        "    \n",
        "  def add_contact(self,name,email,number):\n",
        "    self.name = name\n",
        "    self.email = email\n",
        "    self.number = number\n",
        "    self.new_contact = {} \n",
        "    l=['name','email','number']\n",
        "    vals=[self.name,self.email,self.number]\n",
        "    for i in range(len(vals)):\n",
        "      self.new_contact[l[i]]=vals[i]\n",
        "    (self.contacts).append(self.new_contact)\n",
        "    return self.contacts\n",
        "  \n",
        "  def delete_contact(self,name):\n",
        "    self.name = name\n",
        "    for i in self.contacts:\n",
        "      if i['name'] == self.name:\n",
        "        self.contacts.remove(i)\n",
        "        print('deleted')\n",
        "    return self.contacts\n",
        "  \n",
        "  def update_contacts(self,name):\n",
        "    self.name = name\n",
        "    for i in self.contacts:\n",
        "      if i['name'] == self.name:\n",
        "        l=['name','email','number']\n",
        "        for j in l:\n",
        "          i.update({j:(input(\"Enter Contact's \"))})\n",
        "    return self.contacts\n",
        "  \n",
        "  def open_contact(self,name):\n",
        "    self.name = name\n",
        "    x=len(self.contacts)\n",
        "    z = 0\n",
        "    for i in self.contacts:\n",
        "      if i['name'] == self.name:\n",
        "        print(i)\n",
        "        break\n",
        "      else: \n",
        "        z+=1\n",
        "    if x == z:\n",
        "      print('No Match Found')\n",
        "      \n",
        "    user_input = input('press u to update or d to delete')\n",
        "    if user_input == 'u':\n",
        "      self.update_contacts(self.name)\n",
        "    elif user_input == 'd':\n",
        "      self.delete_contact(self.name)\n",
        "    else:\n",
        "      print('Ignored')\n",
        "    return self.contacts"
      ],
      "metadata": {
        "id": "0wAfLu5TSLH1"
      },
      "execution_count": null,
      "outputs": []
    },
    {
      "cell_type": "code",
      "source": [
        "obj = Contact_App()\n",
        "obj.open_contact('pranav')"
      ],
      "metadata": {
        "colab": {
          "base_uri": "https://localhost:8080/"
        },
        "id": "9rHMKJl18E7B",
        "outputId": "968bf40c-26b2-4666-ba74-42aad92638e6"
      },
      "execution_count": null,
      "outputs": [
        {
          "name": "stdout",
          "output_type": "stream",
          "text": [
            "{'name': 'pranav', 'email': 'pranav@gmail.com', 'number': 987654321}\n",
            "press u to update or d to deleteu\n",
            "Enter Contact's pranav\n",
            "Enter Contact's p@gmail.com\n",
            "Enter Contact's 345678\n"
          ]
        },
        {
          "output_type": "execute_result",
          "data": {
            "text/plain": [
              "[{'email': 'vivek@gmail.com', 'name': 'vivek', 'number': 9921668254},\n",
              " {'email': 'ankur@gmail.com', 'name': 'ankur', 'number': 8806807004},\n",
              " {'email': 'p@gmail.com', 'name': 'pranav', 'number': '345678'}]"
            ]
          },
          "metadata": {},
          "execution_count": 88
        }
      ]
    },
    {
      "cell_type": "code",
      "source": [
        "obj.delete_contact('pranav')"
      ],
      "metadata": {
        "colab": {
          "base_uri": "https://localhost:8080/"
        },
        "id": "TmiWeoUp8iQu",
        "outputId": "1934f752-d65c-4207-e445-2a76f53ad347"
      },
      "execution_count": null,
      "outputs": [
        {
          "output_type": "stream",
          "name": "stdout",
          "text": [
            "deleted\n"
          ]
        },
        {
          "output_type": "execute_result",
          "data": {
            "text/plain": [
              "[{'email': 'vivek@gmail.com', 'name': 'vivek', 'number': 9921668254},\n",
              " {'email': 'ankur@gmail.com', 'name': 'ankur', 'number': 8806807004}]"
            ]
          },
          "metadata": {},
          "execution_count": 89
        }
      ]
    },
    {
      "cell_type": "code",
      "source": [
        "obj.show_contacts()"
      ],
      "metadata": {
        "id": "IRKOdMCeLJcD",
        "outputId": "59c9585f-36e4-4e2d-d7a8-40e393732f6f",
        "colab": {
          "base_uri": "https://localhost:8080/"
        }
      },
      "execution_count": null,
      "outputs": [
        {
          "output_type": "stream",
          "name": "stdout",
          "text": [
            "{'name': 'vivek', 'email': 'vivek@gmail.com', 'number': 9921668254}\n",
            "{'name': 'ankur', 'email': 'ankur@gmail.com', 'number': 8806807004}\n"
          ]
        }
      ]
    },
    {
      "cell_type": "code",
      "source": [],
      "metadata": {
        "id": "tdu-KPaZLOnQ"
      },
      "execution_count": null,
      "outputs": []
    }
  ],
  "metadata": {
    "kernelspec": {
      "display_name": "Python 3",
      "language": "python",
      "name": "python3"
    },
    "language_info": {
      "codemirror_mode": {
        "name": "ipython",
        "version": 3
      },
      "file_extension": ".py",
      "mimetype": "text/x-python",
      "name": "python",
      "nbconvert_exporter": "python",
      "pygments_lexer": "ipython3",
      "version": "3.7.4"
    },
    "toc": {
      "base_numbering": 1,
      "nav_menu": {},
      "number_sections": true,
      "sideBar": true,
      "skip_h1_title": false,
      "title_cell": "Table of Contents",
      "title_sidebar": "Contents",
      "toc_cell": false,
      "toc_position": {},
      "toc_section_display": true,
      "toc_window_display": false
    },
    "colab": {
      "provenance": [],
      "collapsed_sections": [],
      "include_colab_link": true
    }
  },
  "nbformat": 4,
  "nbformat_minor": 0
}