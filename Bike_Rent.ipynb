{
  "cells": [
    {
      "cell_type": "markdown",
      "metadata": {
        "id": "view-in-github",
        "colab_type": "text"
      },
      "source": [
        "<a href=\"https://colab.research.google.com/github/RishikeshNarsale/RishikeshNarsale/blob/main/Bike_Rent.ipynb\" target=\"_parent\"><img src=\"https://colab.research.google.com/assets/colab-badge.svg\" alt=\"Open In Colab\"/></a>"
      ]
    },
    {
      "cell_type": "markdown",
      "id": "303d18ca",
      "metadata": {
        "id": "303d18ca"
      },
      "source": [
        "## OOP project"
      ]
    },
    {
      "cell_type": "markdown",
      "id": "5cada111",
      "metadata": {
        "id": "5cada111"
      },
      "source": [
        "A Bike Rental System\n",
        "\n",
        "A full fledged bike rental system implemented in Python using object oriented programming.\n",
        "\n",
        "Customers can see available bikes on the shop.\n",
        "Rent bikes on daily basis Rs.100 per day.\n",
        "Rent bikes on weekly basis Rs.500 per week.\n",
        "Family Rental, a promotion that can include from 3 to 5 Rentals (of any type) with a discount of 30% of the total price.\n",
        "\n",
        "The bike rental shop can issue a bill when customer decides to return the bike,\n",
        "display available inventory ,take requests on daily and weekly basis by cross verifying stock.\n",
        "\n",
        "For simplicity we assume that\n",
        "Any customer requests rentals of only one type i.e daily or weekly and is free to choose the number of bikes he/she wants.\n",
        "Requested bikes should be less than available stock."
      ]
    },
    {
      "cell_type": "code",
      "execution_count": null,
      "id": "81b2891a",
      "metadata": {
        "id": "81b2891a"
      },
      "outputs": [],
      "source": []
    },
    {
      "cell_type": "markdown",
      "id": "abae9162",
      "metadata": {
        "id": "abae9162"
      },
      "source": [
        "## Step 1\n",
        "\n",
        "Create a parent class `BikeRental`. Define `stock` as `class attribute` and assign value 100 to it.\n",
        "\n",
        "This class should not take any other attribute and when the object is created, it should display the message \"Welcome to rental bike shop.\"\n",
        "\n",
        "Define a method `displaystock` inside this class and when this method is called, it should display the total number of stock available."
      ]
    },
    {
      "cell_type": "code",
      "execution_count": null,
      "id": "8816e06c",
      "metadata": {
        "id": "8816e06c"
      },
      "outputs": [],
      "source": [
        "## your code goes here ##\n",
        "class BikeRental():\n",
        "  stock = 100\n",
        "  def __init__(self):\n",
        "    print('Welcome to rental bike shop.')\n",
        "  \n",
        "  def displaystock(self):\n",
        "    print('Stock Available : ',self.stock)"
      ]
    },
    {
      "cell_type": "markdown",
      "id": "2ca3fb5c",
      "metadata": {
        "id": "2ca3fb5c"
      },
      "source": [
        "Create an object `bike_shop` of above class."
      ]
    },
    {
      "cell_type": "code",
      "execution_count": null,
      "id": "5184fc96",
      "metadata": {
        "id": "5184fc96"
      },
      "outputs": [],
      "source": [
        "## your code goes here ##"
      ]
    },
    {
      "cell_type": "code",
      "execution_count": null,
      "id": "ef59df60",
      "metadata": {
        "colab": {
          "base_uri": "https://localhost:8080/"
        },
        "id": "ef59df60",
        "outputId": "ca70a287-6dbe-4b0c-a2ed-36e815939264"
      },
      "outputs": [
        {
          "output_type": "stream",
          "name": "stdout",
          "text": [
            "Welcome to rental bike shop.\n"
          ]
        }
      ],
      "source": [
        "bike_shop = BikeRental()"
      ]
    },
    {
      "cell_type": "markdown",
      "id": "73d006a8",
      "metadata": {
        "id": "73d006a8"
      },
      "source": [
        "Check if above created object can access the `class attribute` `stock`."
      ]
    },
    {
      "cell_type": "code",
      "execution_count": null,
      "id": "a96da206",
      "metadata": {
        "scrolled": true,
        "id": "a96da206"
      },
      "outputs": [],
      "source": [
        "## your code goes here ##"
      ]
    },
    {
      "cell_type": "code",
      "execution_count": null,
      "id": "4460bd03",
      "metadata": {
        "colab": {
          "base_uri": "https://localhost:8080/"
        },
        "id": "4460bd03",
        "outputId": "d90fc666-dd2b-4958-bea2-915518ccaa49"
      },
      "outputs": [
        {
          "output_type": "execute_result",
          "data": {
            "text/plain": [
              "100"
            ]
          },
          "metadata": {},
          "execution_count": 10
        }
      ],
      "source": [
        "bike_shop.stock"
      ]
    },
    {
      "cell_type": "markdown",
      "id": "a702f97d",
      "metadata": {
        "id": "a702f97d"
      },
      "source": [
        "Call the method `displaystock` using above created object `bike_shop`."
      ]
    },
    {
      "cell_type": "code",
      "execution_count": null,
      "id": "c4dc35b0",
      "metadata": {
        "id": "c4dc35b0"
      },
      "outputs": [],
      "source": [
        "## your code goes here ##"
      ]
    },
    {
      "cell_type": "code",
      "execution_count": null,
      "id": "6a859671",
      "metadata": {
        "colab": {
          "base_uri": "https://localhost:8080/"
        },
        "id": "6a859671",
        "outputId": "22a0b56f-706a-4f10-a7ef-131efbd25a80"
      },
      "outputs": [
        {
          "output_type": "stream",
          "name": "stdout",
          "text": [
            "Stock Available :  100\n"
          ]
        }
      ],
      "source": [
        "bike_shop.displaystock()"
      ]
    },
    {
      "cell_type": "markdown",
      "id": "d3a33de1",
      "metadata": {
        "id": "d3a33de1"
      },
      "source": [
        "## Step 2\n",
        "\n",
        "Create a derived class `Customer` to inherit the methods from `BikeRental` class.\n",
        "Define `bill` as `class attribute`and set it's initial value as zero.\n",
        "\n",
        "This class has `number_of_bikes`, `rentalBasis` (daily or weekly) and `number_of_days_or_weeks` as attributes."
      ]
    },
    {
      "cell_type": "markdown",
      "id": "98a400fe",
      "metadata": {
        "id": "98a400fe"
      },
      "source": [
        "Define a function `rentBike`, it should have following conditions:\n",
        "\n",
        "- if `number_of_bikes` is less than or equal to zero, it should display the message \"Number of bikes should be positive!\".\n",
        "\n",
        "- if `number_of_bikes` is greater than the `stock`, it should display the `number_of_bikes` available to rent.\n",
        "\n",
        "- Otherwise display the total `number_of_bikes` rented by the customer. Do not forget to update the value of `stock` i.e. subtract the `number_of_bikes` rented from stock and display the updated `stock`."
      ]
    },
    {
      "cell_type": "code",
      "execution_count": null,
      "id": "50196270",
      "metadata": {
        "id": "50196270"
      },
      "outputs": [],
      "source": [
        "## your code goes here ##\n",
        "class Customer(BikeRental):\n",
        "  bill = 0\n",
        "  def __init__(self,number_of_bikes,rentalBasis,number_of_days_or_weeks):\n",
        "    self.number_of_bikes = number_of_bikes\n",
        "    self.rentalBasis = rentalBasis\n",
        "    self.number_of_days_or_weeks = number_of_days_or_weeks\n",
        "\n",
        "    # return self.number_of_bikes,self.rentalBasis,self.number_of_days_or_weeks\n",
        "\n",
        "  def rentBike(self):\n",
        "    if self.number_of_bikes <= 0:\n",
        "      print('Number of bikes should be positive!')\n",
        "    elif self.number_of_bikes > self.stock:\n",
        "      print(self.stock ,'available to rent ')\n",
        "    else:\n",
        "      print(self.number_of_bikes , 'rented by the customer')\n",
        "      self.stock -= self.number_of_bikes\n",
        "      print(self.stock , 'Available Bikes')\n",
        "  def returnBike(self):\n",
        "    if self.rentalBasis == 'Day':\n",
        "      self.rentalBasis = 100*self.number_of_bikes*self.number_of_days_or_weeks\n",
        "    elif self.rentalBasis == 'Week':\n",
        "      self.rentalBasis = 500*self.number_of_bikes*self.number_of_days_or_weeks\n",
        "    print(self.rentalBasis)\n",
        "    if self.number_of_bikes >= 3 and self.number_of_bikes <= 5:\n",
        "      self.discount = self.rentalBasis*(0.30)\n",
        "      self.rentalBasis -= self.discount\n",
        "      print('You are eligible for family rental promotion of 30% Discount.')\n",
        "      print(self.rentalBasis)\n",
        "    else:\n",
        "      print(self.rentalBasis)\n"
      ]
    },
    {
      "cell_type": "markdown",
      "id": "cb22ec0f",
      "metadata": {
        "id": "cb22ec0f"
      },
      "source": [
        "Define a function `returnBike` to return the total bill of customer.\n",
        "- Check if `rentalBasis` is ' daily ' or ' weekly ' and accordingly calculate the bill. Rent on ' daily ' basis is Rs. 100 per bike and for ' weekly ' basis it is Rs. 500 per bike.\n",
        "\n",
        "- If `number_of_bikes` rented by customer is between 3 to 5 (both values inclusive), 30% discount is offered on total bill. So it should display the message \"You are eligible for Family rental promotion of 30% discount\"."
      ]
    },
    {
      "cell_type": "code",
      "execution_count": null,
      "id": "48be1e59",
      "metadata": {
        "id": "48be1e59"
      },
      "outputs": [],
      "source": [
        "## your code goes here ##"
      ]
    },
    {
      "cell_type": "markdown",
      "id": "fa66397a",
      "metadata": {
        "id": "fa66397a"
      },
      "source": [
        "## Step 3\n",
        "\n",
        "Write complete `Customer` class using above defined functions `returnBike` and `rentBike` inside it as methods."
      ]
    },
    {
      "cell_type": "code",
      "execution_count": null,
      "id": "e1c7c3f5",
      "metadata": {
        "id": "e1c7c3f5"
      },
      "outputs": [],
      "source": [
        "## your code goes here ##"
      ]
    },
    {
      "cell_type": "markdown",
      "id": "dea7483f",
      "metadata": {
        "id": "dea7483f"
      },
      "source": [
        "## Step 4\n",
        "\n",
        "Check your `Bike Rental System` for test-case objects given below :\n",
        "\n",
        "For first four customers - check all the three attribute values and call `rentBike` and `returnBike` methods. \n",
        "\n",
        "- customer_1 = Customer(2,'day',5)\n",
        "\n",
        "- customer_2 = Customer(1,'week',3)\n",
        "\n",
        "- customer_3 = Customer(4,'day',3)  - Is family discount applicable here ?\n",
        "\n",
        "- customer_4 = Customer(3,'week',3) - Is family discount applicable here ?\n",
        "\n",
        "Call `rentBike` and `displaystock` methods for test-case objects given below :\n",
        "\n",
        "- customer_5 = Customer(120,'week',3)\n",
        "\n",
        "- customer_6 = Customer(0,'week',3)\n",
        "\n",
        "- customer_7 = Customer(-5,'week',3)\n",
        "\n",
        "- customer_8 = Customer(1,'day',3)"
      ]
    },
    {
      "cell_type": "code",
      "source": [
        "class BikeRental():\n",
        "  stock = 100\n",
        "  def __init__(self):\n",
        "    print('Welcome to rental bike shop.')\n",
        "  \n",
        "  def displaystock(self):\n",
        "    print('Stock Available : ',self.stock)\n",
        "\n",
        "class Customer(BikeRental):\n",
        "  bill = 0\n",
        "  def __init__(self,number_of_bikes,rentalBasis,number_of_days_or_weeks):\n",
        "    self.number_of_bikes = number_of_bikes\n",
        "    self.rentalBasis = rentalBasis\n",
        "    self.number_of_days_or_weeks = number_of_days_or_weeks\n",
        "\n",
        "  def rentBike(self):\n",
        "    if self.number_of_bikes <= 0:\n",
        "      print('Number of bikes should be positive!')\n",
        "    elif self.number_of_bikes > self.stock:\n",
        "      print('Bikes Out of Stock')\n",
        "      print(self.stock ,'available to rent ')\n",
        "    else:\n",
        "      print(self.number_of_bikes , 'rented by the customer')\n",
        "      self.stock -= self.number_of_bikes\n",
        "      print(self.stock , 'Available Bikes')\n",
        "\n",
        "  def returnBike(self):\n",
        "    if self.rentalBasis == 'Day':\n",
        "      self.rentalBasis = 100*self.number_of_bikes*self.number_of_days_or_weeks\n",
        "    elif self.rentalBasis == 'Week':\n",
        "      self.rentalBasis = 500*self.number_of_bikes*self.number_of_days_or_weeks\n",
        "    #print(self.rentalBasis)\n",
        "    if self.number_of_bikes >= 3 and self.number_of_bikes <= 5:\n",
        "      self.discount = self.rentalBasis*(0.30)\n",
        "      self.rentalBasis -= self.discount\n",
        "      print('You are eligible for family rental promotion of 30% Discount.')\n",
        "      print(self.rentalBasis,'Charges')\n",
        "    else:\n",
        "      print(self.rentalBasis,'Charges')\n"
      ],
      "metadata": {
        "id": "V675gUz9mACf"
      },
      "id": "V675gUz9mACf",
      "execution_count": null,
      "outputs": []
    },
    {
      "cell_type": "code",
      "source": [
        "customer_1 = BikeRental()\n",
        "customer_1 = Customer(10,'Day',5)\n",
        "customer_1.rentBike()\n",
        "customer_1.returnBike()"
      ],
      "metadata": {
        "colab": {
          "base_uri": "https://localhost:8080/"
        },
        "id": "BDVgjHCYn-x7",
        "outputId": "cae81e9a-8d32-4518-ad4c-75d4e52a38fb"
      },
      "id": "BDVgjHCYn-x7",
      "execution_count": null,
      "outputs": [
        {
          "output_type": "stream",
          "name": "stdout",
          "text": [
            "Welcome to rental bike shop.\n",
            "10 rented by the customer\n",
            "90 Available Bikes\n",
            "5000 Charges\n"
          ]
        }
      ]
    },
    {
      "cell_type": "code",
      "source": [
        "customer_2 = BikeRental()\n",
        "customer_2 = Customer(1,'Week',3)\n",
        "customer_2.rentBike()\n",
        "customer_2.returnBike()"
      ],
      "metadata": {
        "colab": {
          "base_uri": "https://localhost:8080/"
        },
        "id": "MEB7ftcuoDxZ",
        "outputId": "c33ae709-f5b6-44e2-cd4a-bea140f3e328"
      },
      "id": "MEB7ftcuoDxZ",
      "execution_count": null,
      "outputs": [
        {
          "output_type": "stream",
          "name": "stdout",
          "text": [
            "Welcome to rental bike shop.\n",
            "1 rented by the customer\n",
            "99 Available Bikes\n",
            "1500 Charges\n"
          ]
        }
      ]
    },
    {
      "cell_type": "code",
      "source": [],
      "metadata": {
        "id": "guyWKikRpE6I"
      },
      "id": "guyWKikRpE6I",
      "execution_count": null,
      "outputs": []
    }
  ],
  "metadata": {
    "kernelspec": {
      "display_name": "Python 3 (ipykernel)",
      "language": "python",
      "name": "python3"
    },
    "language_info": {
      "codemirror_mode": {
        "name": "ipython",
        "version": 3
      },
      "file_extension": ".py",
      "mimetype": "text/x-python",
      "name": "python",
      "nbconvert_exporter": "python",
      "pygments_lexer": "ipython3",
      "version": "3.10.0"
    },
    "colab": {
      "provenance": [],
      "toc_visible": true,
      "include_colab_link": true
    }
  },
  "nbformat": 4,
  "nbformat_minor": 5
}